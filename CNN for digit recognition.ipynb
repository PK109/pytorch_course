{
 "cells": [
  {
   "cell_type": "code",
   "execution_count": 2,
   "id": "53642cf6",
   "metadata": {},
   "outputs": [],
   "source": [
    "import torch\n",
    "import torch.nn as nn\n",
    "import torchvision.datasets as datasets \n",
    "import torchvision.transforms as transforms\n",
    "import matplotlib.pyplot as plt"
   ]
  },
  {
   "cell_type": "code",
   "execution_count": 3,
   "id": "cdff7b37",
   "metadata": {},
   "outputs": [],
   "source": [
    "mean_gray = 0.1307\n",
    "stddev_gray = 0.3081"
   ]
  },
  {
   "cell_type": "code",
   "execution_count": 4,
   "id": "51b0358e",
   "metadata": {},
   "outputs": [
    {
     "name": "stderr",
     "output_type": "stream",
     "text": [
      "C:\\ProgramData\\Anaconda3\\lib\\site-packages\\torchvision\\datasets\\mnist.py:498: UserWarning: The given NumPy array is not writeable, and PyTorch does not support non-writeable tensors. This means you can write to the underlying (supposedly non-writeable) NumPy array using the tensor. You may want to copy the array to protect its data or make it writeable before converting it to a tensor. This type of warning will be suppressed for the rest of this program. (Triggered internally at  ..\\torch\\csrc\\utils\\tensor_numpy.cpp:180.)\n",
      "  return torch.from_numpy(parsed.astype(m[2], copy=False)).view(*s)\n"
     ]
    }
   ],
   "source": [
    "#input [channel] = input[channel] - mean[channel] / std[channel]\n",
    "\n",
    "transform = transforms.Compose([transforms.ToTensor(),\n",
    "                               transforms.Normalize(mean_gray,stddev_gray)\n",
    "                               ])\n",
    "train_dataset = datasets.MNIST(root = './data',\n",
    "                               train = True,\n",
    "                               transform = transform,\n",
    "                               download = True)\n",
    "test_dataset = datasets.MNIST(root = './data',\n",
    "                               train = False,\n",
    "                               transform = transform)"
   ]
  },
  {
   "cell_type": "code",
   "execution_count": 5,
   "id": "b3f6ff99",
   "metadata": {},
   "outputs": [
    {
     "data": {
      "text/plain": [
       "<matplotlib.image.AxesImage at 0x17d58b21a88>"
      ]
     },
     "execution_count": 5,
     "metadata": {},
     "output_type": "execute_result"
    },
    {
     "data": {
      "image/png": "[encoded data removed]",
      "text/plain": [
       "<Figure size 432x288 with 1 Axes>"
      ]
     },
     "metadata": {
      "needs_background": "light"
     },
     "output_type": "display_data"
    }
   ],
   "source": [
    "random_img = train_dataset[20][0].numpy() * stddev_gray + mean_gray\n",
    "plt.imshow(random_img.reshape(28,28), cmap = 'gray')"
   ]
  },
  {
   "cell_type": "code",
   "execution_count": 6,
   "id": "c3c886b0",
   "metadata": {},
   "outputs": [
    {
     "name": "stdout",
     "output_type": "stream",
     "text": [
      "4\n"
     ]
    }
   ],
   "source": [
    "print(train_dataset[20][1])"
   ]
  },
  {
   "cell_type": "code",
   "execution_count": 7,
   "id": "7fc1ecfb",
   "metadata": {},
   "outputs": [],
   "source": [
    "batch_size = 100\n",
    "train_load = torch.utils.data.DataLoader(dataset = train_dataset,\n",
    "                                        batch_size = batch_size,\n",
    "                                        shuffle = True)\n",
    "test_load = torch.utils.data.DataLoader(dataset = test_dataset,\n",
    "                                        batch_size = batch_size,\n",
    "                                        shuffle = False)"
   ]
  },
  {
   "cell_type": "code",
   "execution_count": 8,
   "id": "3ce37220",
   "metadata": {},
   "outputs": [
    {
     "data": {
      "text/plain": [
       "600"
      ]
     },
     "execution_count": 8,
     "metadata": {},
     "output_type": "execute_result"
    }
   ],
   "source": [
    "len(train_load)"
   ]
  },
  {
   "cell_type": "code",
   "execution_count": 9,
   "id": "987b1c2c",
   "metadata": {},
   "outputs": [],
   "source": [
    "class CNN(nn.Module):\n",
    "    def __init__(self):\n",
    "        super().__init__()\n",
    "        self.cnn1 = nn.Conv2d(in_channels= 1, out_channels= 8, kernel_size= 3, stride= 1, padding= 1)\n",
    "        self.batchnorm1 = nn.BatchNorm2d(8)\n",
    "        self.relu = nn.ReLU()\n",
    "        self.maxpool = nn.MaxPool2d(kernel_size= 2)\n",
    "        self.cnn2 = nn.Conv2d(in_channels= 8, out_channels= 32, kernel_size= 5, stride= 1, padding= 2)\n",
    "        self.batchnorm2 = nn.BatchNorm2d(32)\n",
    "        self.fc1 = nn.Linear(32*7*7, 600)\n",
    "        self.dropout = nn.Dropout(p= 0.5)\n",
    "        self.fc2 = nn.Linear(600,10)\n",
    "    \n",
    "    def forward(self, x):\n",
    "        out = self.cnn1(x)\n",
    "        out = self.batchnorm1(out)\n",
    "        out = self.relu(out)\n",
    "        out = self.maxpool(out)\n",
    "        \n",
    "        out = self.cnn2(out)\n",
    "        out = self.batchnorm2(out)\n",
    "        out = self.relu(out)\n",
    "        out = self.maxpool(out)\n",
    "        out = out.view(-1, 32*7*7) #zmiana rozmiaru - spłaszczenie (flatten)\n",
    "        \n",
    "        out = self.fc1(out)\n",
    "        out = self.relu(out)\n",
    "        out = self.dropout(out)\n",
    "        out = self.fc2(out)\n",
    "        return out"
   ]
  },
  {
   "cell_type": "code",
   "execution_count": 10,
   "id": "ca583bb9",
   "metadata": {},
   "outputs": [],
   "source": [
    "CUDA = torch.cuda.is_available()"
   ]
  },
  {
   "cell_type": "code",
   "execution_count": 11,
   "id": "1ccf0bf0",
   "metadata": {},
   "outputs": [],
   "source": [
    "model = CNN()\n",
    "if CUDA:\n",
    "    model = model.cuda()"
   ]
  },
  {
   "cell_type": "code",
   "execution_count": 12,
   "id": "2d8b6b50",
   "metadata": {},
   "outputs": [],
   "source": [
    "loss_fn = nn.CrossEntropyLoss()\n",
    "optimizer = torch.optim.Adam(model.parameters(), lr= 0.01)"
   ]
  },
  {
   "cell_type": "code",
   "execution_count": 13,
   "id": "6614b259",
   "metadata": {},
   "outputs": [
    {
     "name": "stderr",
     "output_type": "stream",
     "text": [
      "C:\\ProgramData\\Anaconda3\\lib\\site-packages\\torch\\nn\\functional.py:718: UserWarning: Named tensors and all their associated APIs are an experimental feature and subject to change. Please do not use them for anything important until they are released as stable. (Triggered internally at  ..\\c10/core/TensorImpl.h:1156.)\n",
      "  return torch.max_pool2d(input, kernel_size, stride, padding, dilation, ceil_mode)\n"
     ]
    },
    {
     "name": "stdout",
     "output_type": "stream",
     "text": [
      "Błędy: 185\n"
     ]
    }
   ],
   "source": [
    "#training and testing\n",
    "epochs = 1\n",
    "train_loss = []\n",
    "train_accuracy = []\n",
    "\n",
    "test_loss = []\n",
    "test_accuracy = []\n",
    "\n",
    "for epoch in range(epochs):\n",
    "    correct = 0\n",
    "    iterations = 0\n",
    "    iter_loss = 0.0\n",
    "    \n",
    "    model.train()\n",
    "    for i,(inputs, labels) in enumerate(train_load):\n",
    "        if CUDA:\n",
    "            inputs = inputs.cuda()\n",
    "            labels = labels.cuda()\n",
    "        \n",
    "        output = model(inputs)\n",
    "        loss = loss_fn(output,labels)\n",
    "        iter_loss += loss.item()\n",
    "        \n",
    "        optimizer.zero_grad()\n",
    "        loss.backward()\n",
    "        optimizer.step()\n",
    "        \n",
    "        _, predicted = torch.max(output, dim= 1)\n",
    "        correct += (predicted == labels).sum().item()\n",
    "        iterations += 1\n",
    "    \n",
    "    train_loss.append(iter_loss/iterations)\n",
    "    train_accuracy.append(correct/len(train_dataset))\n",
    "    \n",
    "    \n",
    "    correct = 0\n",
    "    iterations = 0\n",
    "    iter_loss = 0.0\n",
    "    test_errors = []\n",
    "    model.eval()\n",
    "    \n",
    "    for i,(inputs, labels) in enumerate(test_load):\n",
    "        if CUDA:\n",
    "            inputs = inputs.cuda()\n",
    "            labels = labels.cuda()\n",
    "        \n",
    "        output = model(inputs)\n",
    "        loss = loss_fn(output,labels)\n",
    "        iter_loss += loss.item()\n",
    "        \n",
    "        _, predicted = torch.max(output, dim= 1)\n",
    "        for j in range(len(predicted)):\n",
    "            if predicted[j] == labels[j]:\n",
    "                correct += 1\n",
    "            else:\n",
    "                test_errors.append( 100*i + j)\n",
    "                \n",
    "        #correct += (predicted == labels).sum().item()\n",
    "        iterations += 1\n",
    "    \n",
    "    test_loss.append(iter_loss/iterations)\n",
    "    test_accuracy.append(correct/len(test_dataset))\n",
    "    \n",
    "    #print(\"Epoch {}, Training Loss: {:.3f},\\tTraining Accuracy: {:.3f}\\tTests Loss: {:.3f},\\tTests Accuracy: {:.3f}\".format(\n",
    "    #epoch+1, train_loss[-1],train_accuracy[-1],test_loss[-1],test_accuracy[-1]))\n",
    "    print(\"Błędy: {}\".format(len(test_errors)))"
   ]
  },
  {
   "cell_type": "code",
   "execution_count": 15,
   "id": "ab00adfd",
   "metadata": {},
   "outputs": [
    {
     "name": "stdout",
     "output_type": "stream",
     "text": [
      "78, 247, 259, 264, 320, 551, 582, 619, 717, 726, 740, 829, 898, 926, 938, 947, 956, 965, 1014, 1033, 1107, 1112, 1143, 1178, 1182, 1226, 1232, 1247, 1260, 1290, 1299, 1393, 1429, 1500, 1553, 1559, 1621, 1681, 1709, 1737, 1754, 1790, 1878, 1901, 1911, 2035, 2043, 2053, 2109, 2118, 2125, 2129, 2130, 2135, 2182, 2185, 2189, 2280, 2293, 2387, 2406, 2447, 2454, 2462, 2597, 2607, 2654, 2760, 2780, 2810, 2812, 2896, 2921, 2953, 2970, 2979, 2995, 3005, 3030, 3060, 3073, 3132, 3218, 3503, 3511, 3520, 3534, 3558, 3597, 3599, 3662, 3716, 3726, 3751, 3767, 3778, 3780, 3796, 3808, 3821, 3838, 3850, 3853, 3906, 3926, 3941, 4065, 4075, 4078, 4176, 4205, 4224, 4238, 4248, 4256, 4271, 4289, 4435, 4500, 4507, 4571, 4575, 4639, 4702, 4740, 4761, 4807, 4823, 4837, 4860, 4879, 4956, 5634, 5734, 5736, 5888, 5936, 5937, 5955, 5981, 6071, 6081, 6091, 6157, 6166, 6172, 6505, 6555, 6560, 6571, 6576, 6597, 6608, 6625, 6651, 6769, 6783, 7121, 7432, 7434, 8094, 8273, 8325, 8382, 8408, 9009, 9015, 9019, 9530, 9634, 9642, 9655, 9664, 9677, 9679, 9698, 9729, 9768, 9779, 9811, 9839, 9879, 9904, 9905, 9982\n"
     ]
    }
   ],
   "source": [
    "print(*test_errors,sep= \", \")"
   ]
  },
  {
   "cell_type": "code",
   "execution_count": 16,
   "id": "a459cabd",
   "metadata": {},
   "outputs": [
    {
     "data": {
      "image/png": "[encoded data removed]",
      "text/plain": [
       "<Figure size 720x720 with 1 Axes>"
      ]
     },
     "metadata": {
      "needs_background": "light"
     },
     "output_type": "display_data"
    }
   ],
   "source": [
    "#plotting the loss\n",
    "f = plt.figure(figsize= (10,10))\n",
    "plt.plot(train_loss, label = \"Training Loss\")\n",
    "plt.plot(test_loss, label = \"Testing Loss\")\n",
    "plt.legend()\n",
    "plt.show()"
   ]
  },
  {
   "cell_type": "code",
   "execution_count": 17,
   "id": "b5ffa3d2",
   "metadata": {},
   "outputs": [
    {
     "data": {
      "image/png": "[encoded data removed]",
      "text/plain": [
       "<Figure size 720x720 with 1 Axes>"
      ]
     },
     "metadata": {
      "needs_background": "light"
     },
     "output_type": "display_data"
    }
   ],
   "source": [
    "#plotting the accuracy\n",
    "f = plt.figure(figsize= (10,10))\n",
    "plt.plot(train_accuracy, label = \"Training Accuracy\")\n",
    "plt.plot(test_accuracy, label = \"Testing Accuracy\")\n",
    "plt.legend()\n",
    "plt.show()"
   ]
  },
  {
   "cell_type": "code",
   "execution_count": 18,
   "id": "653d2f13",
   "metadata": {},
   "outputs": [
    {
     "name": "stdout",
     "output_type": "stream",
     "text": [
      "prediction: 3\n",
      "Actual: 5\n"
     ]
    },
    {
     "data": {
      "image/png": "[encoded data removed]",
      "text/plain": [
       "<Figure size 432x288 with 1 Axes>"
      ]
     },
     "metadata": {
      "needs_background": "light"
     },
     "output_type": "display_data"
    }
   ],
   "source": [
    "img_index = 5937\n",
    "img = test_dataset[img_index][0].view((1,1,28,28))\n",
    "labels = test_dataset[img_index][1]\n",
    "\n",
    "model.eval()\n",
    "if CUDA:\n",
    "    model = model.cuda()\n",
    "    img = img.cuda()\n",
    "    \n",
    "output = model(img)\n",
    "_, predicted = torch.max(output, dim= 1)\n",
    "\n",
    "random_img = test_dataset[img_index][0].numpy() * stddev_gray + mean_gray\n",
    "plt.imshow(random_img.reshape(28,28), cmap = 'gray')\n",
    "print(\"prediction: {}\".format(predicted.item()))\n",
    "print(\"Actual: {}\".format(labels))"
   ]
  },
  {
   "cell_type": "code",
   "execution_count": null,
   "id": "a7288ac5",
   "metadata": {},
   "outputs": [],
   "source": [
    "\n",
    "\n"
   ]
  }
 ],
 "metadata": {
  "kernelspec": {
   "display_name": "Python 3",
   "language": "python",
   "name": "python3"
  },
  "language_info": {
   "codemirror_mode": {
    "name": "ipython",
    "version": 3
   },
   "file_extension": ".py",
   "mimetype": "text/x-python",
   "name": "python",
   "nbconvert_exporter": "python",
   "pygments_lexer": "ipython3",
   "version": "3.7.10"
  }
 },
 "nbformat": 4,
 "nbformat_minor": 5
}
