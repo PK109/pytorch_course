{
 "cells": [
  {
   "cell_type": "code",
   "execution_count": 25,
   "id": "5e3695ea",
   "metadata": {},
   "outputs": [],
   "source": [
    "import numpy as np\n",
    "import torch\n",
    "import torch.nn as nn\n",
    "import pandas as pd\n",
    "from sklearn.preprocessing import StandardScaler\n",
    "from torch.utils.data import Dataset\n",
    "from torch.utils.data import DataLoader"
   ]
  },
  {
   "cell_type": "code",
   "execution_count": 2,
   "id": "25392d4c",
   "metadata": {},
   "outputs": [],
   "source": [
    "data = pd.read_csv('diabetes.csv')"
   ]
  },
  {
   "cell_type": "markdown",
   "id": "b012a4e6",
   "metadata": {},
   "source": [
    "data"
   ]
  },
  {
   "cell_type": "code",
   "execution_count": 4,
   "id": "82771997",
   "metadata": {},
   "outputs": [],
   "source": [
    "x = data.iloc[:,0:-1].values\n",
    "y_string = list(data.iloc[:,-1])"
   ]
  },
  {
   "cell_type": "markdown",
   "id": "3a5c8d67",
   "metadata": {},
   "source": [
    "x"
   ]
  },
  {
   "cell_type": "markdown",
   "id": "ef0afd72",
   "metadata": {},
   "source": [
    "y_string"
   ]
  },
  {
   "cell_type": "code",
   "execution_count": 9,
   "id": "14e81a6e",
   "metadata": {},
   "outputs": [],
   "source": [
    "y_int = []\n",
    "for string in y_string:\n",
    "    if string == \"positive\":\n",
    "        y_int.append(1)\n",
    "    else:\n",
    "        y_int.append(0)"
   ]
  },
  {
   "cell_type": "markdown",
   "id": "9276222a",
   "metadata": {},
   "source": [
    "y_int"
   ]
  },
  {
   "cell_type": "code",
   "execution_count": 12,
   "id": "7fb2fce7",
   "metadata": {},
   "outputs": [],
   "source": [
    "y = np.array(y_int, dtype = 'float64')"
   ]
  },
  {
   "cell_type": "code",
   "execution_count": 13,
   "id": "751bb6dd",
   "metadata": {},
   "outputs": [],
   "source": [
    "sc = StandardScaler()\n",
    "x = sc.fit_transform(x)"
   ]
  },
  {
   "cell_type": "markdown",
   "id": "4d1994e5",
   "metadata": {},
   "source": [
    "x"
   ]
  },
  {
   "cell_type": "code",
   "execution_count": 15,
   "id": "58b39a7d",
   "metadata": {},
   "outputs": [],
   "source": [
    "x = torch.tensor(x)\n",
    "y = torch.tensor(y)"
   ]
  },
  {
   "cell_type": "code",
   "execution_count": 21,
   "id": "da94f247",
   "metadata": {},
   "outputs": [
    {
     "data": {
      "text/plain": [
       "torch.Size([768, 1])"
      ]
     },
     "execution_count": 21,
     "metadata": {},
     "output_type": "execute_result"
    }
   ],
   "source": [
    "y.shape"
   ]
  },
  {
   "cell_type": "code",
   "execution_count": 20,
   "id": "fe770eb2",
   "metadata": {},
   "outputs": [],
   "source": [
    "y = y.unsqueeze(1)"
   ]
  },
  {
   "cell_type": "code",
   "execution_count": 22,
   "id": "ccdc9456",
   "metadata": {},
   "outputs": [],
   "source": [
    "class Dataset(Dataset):\n",
    "    \n",
    "    def __init__(self, x, y):\n",
    "        self.x = x\n",
    "        self.y = y\n",
    "        \n",
    "    def __getitem__(self, index):\n",
    "        return self.x[index], self.y[index]\n",
    "    \n",
    "    def __len__(self):\n",
    "        return len(self.x)\n",
    "    "
   ]
  },
  {
   "cell_type": "code",
   "execution_count": 23,
   "id": "e353a7bf",
   "metadata": {},
   "outputs": [],
   "source": [
    "dataset = Dataset(x,y)"
   ]
  },
  {
   "cell_type": "code",
   "execution_count": 24,
   "id": "a07589b6",
   "metadata": {},
   "outputs": [
    {
     "data": {
      "text/plain": [
       "768"
      ]
     },
     "execution_count": 24,
     "metadata": {},
     "output_type": "execute_result"
    }
   ],
   "source": [
    "len(dataset)"
   ]
  },
  {
   "cell_type": "code",
   "execution_count": 26,
   "id": "c94da658",
   "metadata": {},
   "outputs": [],
   "source": [
    "train_loader = DataLoader(dataset= dataset, batch_size = 32, shuffle = True)"
   ]
  },
  {
   "cell_type": "code",
   "execution_count": 27,
   "id": "ff6e3e6d",
   "metadata": {},
   "outputs": [],
   "source": [
    "class Model(nn.Module):\n",
    "    def __init__(self, input_features, output_features):\n",
    "        super(Model, self).__init__()\n",
    "        self.fc1 = nn.Linear(input_features,5)\n",
    "        self.fc2 = nn.Linear(5,4)\n",
    "        self.fc3 = nn.Linear(4,3)\n",
    "        self.fc4 = nn.Linear(3,1)\n",
    "        self.sigmoid = nn.Sigmoid()\n",
    "        self.tanh = nn.Tanh()\n",
    "        \n",
    "    def forward(self, x):\n",
    "        out = self.fc1(x)\n",
    "        out = self.tanh(out)\n",
    "        out = self.fc2(out)\n",
    "        out = self.tanh(out)\n",
    "        out = self.fc3(out)\n",
    "        out = self.tanh(out)\n",
    "        out = self.fc4(out)\n",
    "        out = self.sigmoid(out)\n",
    "        return out\n",
    "    "
   ]
  },
  {
   "cell_type": "code",
   "execution_count": 28,
   "id": "30197678",
   "metadata": {},
   "outputs": [],
   "source": [
    "net = Model(7,1)"
   ]
  },
  {
   "cell_type": "code",
   "execution_count": 30,
   "id": "3d206b1c",
   "metadata": {},
   "outputs": [],
   "source": [
    "criterion = nn.BCELoss(reduction= 'mean')"
   ]
  },
  {
   "cell_type": "code",
   "execution_count": 31,
   "id": "9cad3c28",
   "metadata": {},
   "outputs": [],
   "source": [
    "optimizer = torch.optim.SGD(net.parameters(),lr=0.1, momentum= 0.9)"
   ]
  },
  {
   "cell_type": "code",
   "execution_count": 32,
   "id": "2b325568",
   "metadata": {},
   "outputs": [
    {
     "name": "stdout",
     "output_type": "stream",
     "text": [
      "Epoch 1/ 200, Loss: 0.680, Accuracy: 0.562\n",
      "Epoch 2/ 200, Loss: 0.372, Accuracy: 0.875\n",
      "Epoch 3/ 200, Loss: 0.594, Accuracy: 0.812\n",
      "Epoch 4/ 200, Loss: 0.415, Accuracy: 0.719\n",
      "Epoch 5/ 200, Loss: 0.503, Accuracy: 0.719\n",
      "Epoch 6/ 200, Loss: 0.445, Accuracy: 0.750\n",
      "Epoch 7/ 200, Loss: 0.605, Accuracy: 0.688\n",
      "Epoch 8/ 200, Loss: 0.302, Accuracy: 0.906\n",
      "Epoch 9/ 200, Loss: 0.471, Accuracy: 0.750\n",
      "Epoch 10/ 200, Loss: 0.657, Accuracy: 0.656\n",
      "Epoch 11/ 200, Loss: 0.596, Accuracy: 0.625\n",
      "Epoch 12/ 200, Loss: 0.377, Accuracy: 0.812\n",
      "Epoch 13/ 200, Loss: 0.434, Accuracy: 0.750\n",
      "Epoch 14/ 200, Loss: 0.424, Accuracy: 0.844\n",
      "Epoch 15/ 200, Loss: 0.485, Accuracy: 0.781\n",
      "Epoch 16/ 200, Loss: 0.511, Accuracy: 0.750\n",
      "Epoch 17/ 200, Loss: 0.735, Accuracy: 0.625\n",
      "Epoch 18/ 200, Loss: 0.653, Accuracy: 0.656\n",
      "Epoch 19/ 200, Loss: 0.296, Accuracy: 0.844\n",
      "Epoch 20/ 200, Loss: 0.374, Accuracy: 0.844\n",
      "Epoch 21/ 200, Loss: 0.434, Accuracy: 0.812\n",
      "Epoch 22/ 200, Loss: 0.413, Accuracy: 0.781\n",
      "Epoch 23/ 200, Loss: 0.504, Accuracy: 0.750\n",
      "Epoch 24/ 200, Loss: 0.462, Accuracy: 0.812\n",
      "Epoch 25/ 200, Loss: 0.423, Accuracy: 0.812\n",
      "Epoch 26/ 200, Loss: 0.373, Accuracy: 0.844\n",
      "Epoch 27/ 200, Loss: 0.471, Accuracy: 0.750\n",
      "Epoch 28/ 200, Loss: 0.670, Accuracy: 0.656\n",
      "Epoch 29/ 200, Loss: 0.367, Accuracy: 0.812\n",
      "Epoch 30/ 200, Loss: 0.477, Accuracy: 0.688\n",
      "Epoch 31/ 200, Loss: 0.391, Accuracy: 0.781\n",
      "Epoch 32/ 200, Loss: 0.345, Accuracy: 0.875\n",
      "Epoch 33/ 200, Loss: 0.545, Accuracy: 0.688\n",
      "Epoch 34/ 200, Loss: 0.424, Accuracy: 0.906\n",
      "Epoch 35/ 200, Loss: 0.397, Accuracy: 0.812\n",
      "Epoch 36/ 200, Loss: 0.364, Accuracy: 0.812\n",
      "Epoch 37/ 200, Loss: 0.502, Accuracy: 0.719\n",
      "Epoch 38/ 200, Loss: 0.668, Accuracy: 0.781\n",
      "Epoch 39/ 200, Loss: 0.327, Accuracy: 0.906\n",
      "Epoch 40/ 200, Loss: 0.373, Accuracy: 0.812\n",
      "Epoch 41/ 200, Loss: 0.401, Accuracy: 0.750\n",
      "Epoch 42/ 200, Loss: 0.367, Accuracy: 0.812\n",
      "Epoch 43/ 200, Loss: 0.298, Accuracy: 0.906\n",
      "Epoch 44/ 200, Loss: 0.440, Accuracy: 0.812\n",
      "Epoch 45/ 200, Loss: 0.291, Accuracy: 0.906\n",
      "Epoch 46/ 200, Loss: 0.416, Accuracy: 0.812\n",
      "Epoch 47/ 200, Loss: 0.301, Accuracy: 0.844\n",
      "Epoch 48/ 200, Loss: 0.361, Accuracy: 0.844\n",
      "Epoch 49/ 200, Loss: 0.311, Accuracy: 0.844\n",
      "Epoch 50/ 200, Loss: 0.310, Accuracy: 0.875\n",
      "Epoch 51/ 200, Loss: 0.353, Accuracy: 0.875\n",
      "Epoch 52/ 200, Loss: 0.500, Accuracy: 0.688\n",
      "Epoch 53/ 200, Loss: 0.607, Accuracy: 0.688\n",
      "Epoch 54/ 200, Loss: 0.400, Accuracy: 0.844\n",
      "Epoch 55/ 200, Loss: 0.349, Accuracy: 0.812\n",
      "Epoch 56/ 200, Loss: 0.382, Accuracy: 0.812\n",
      "Epoch 57/ 200, Loss: 0.468, Accuracy: 0.781\n",
      "Epoch 58/ 200, Loss: 0.541, Accuracy: 0.750\n",
      "Epoch 59/ 200, Loss: 0.395, Accuracy: 0.781\n",
      "Epoch 60/ 200, Loss: 0.360, Accuracy: 0.781\n",
      "Epoch 61/ 200, Loss: 0.342, Accuracy: 0.812\n",
      "Epoch 62/ 200, Loss: 0.474, Accuracy: 0.750\n",
      "Epoch 63/ 200, Loss: 0.400, Accuracy: 0.781\n",
      "Epoch 64/ 200, Loss: 0.602, Accuracy: 0.625\n",
      "Epoch 65/ 200, Loss: 0.410, Accuracy: 0.812\n",
      "Epoch 66/ 200, Loss: 0.349, Accuracy: 0.844\n",
      "Epoch 67/ 200, Loss: 0.339, Accuracy: 0.844\n",
      "Epoch 68/ 200, Loss: 0.257, Accuracy: 0.906\n",
      "Epoch 69/ 200, Loss: 0.404, Accuracy: 0.781\n",
      "Epoch 70/ 200, Loss: 0.320, Accuracy: 0.875\n",
      "Epoch 71/ 200, Loss: 0.598, Accuracy: 0.750\n",
      "Epoch 72/ 200, Loss: 0.320, Accuracy: 0.875\n",
      "Epoch 73/ 200, Loss: 0.430, Accuracy: 0.844\n",
      "Epoch 74/ 200, Loss: 0.430, Accuracy: 0.844\n",
      "Epoch 75/ 200, Loss: 0.299, Accuracy: 0.812\n",
      "Epoch 76/ 200, Loss: 0.582, Accuracy: 0.719\n",
      "Epoch 77/ 200, Loss: 0.414, Accuracy: 0.812\n",
      "Epoch 78/ 200, Loss: 0.478, Accuracy: 0.781\n",
      "Epoch 79/ 200, Loss: 0.333, Accuracy: 0.812\n",
      "Epoch 80/ 200, Loss: 0.442, Accuracy: 0.719\n",
      "Epoch 81/ 200, Loss: 0.425, Accuracy: 0.781\n",
      "Epoch 82/ 200, Loss: 0.295, Accuracy: 0.875\n",
      "Epoch 83/ 200, Loss: 0.470, Accuracy: 0.781\n",
      "Epoch 84/ 200, Loss: 0.534, Accuracy: 0.750\n",
      "Epoch 85/ 200, Loss: 0.439, Accuracy: 0.750\n",
      "Epoch 86/ 200, Loss: 0.238, Accuracy: 0.906\n",
      "Epoch 87/ 200, Loss: 0.514, Accuracy: 0.719\n",
      "Epoch 88/ 200, Loss: 0.261, Accuracy: 0.875\n",
      "Epoch 89/ 200, Loss: 0.383, Accuracy: 0.750\n",
      "Epoch 90/ 200, Loss: 0.504, Accuracy: 0.781\n",
      "Epoch 91/ 200, Loss: 0.478, Accuracy: 0.688\n",
      "Epoch 92/ 200, Loss: 0.443, Accuracy: 0.781\n",
      "Epoch 93/ 200, Loss: 0.452, Accuracy: 0.750\n",
      "Epoch 94/ 200, Loss: 0.438, Accuracy: 0.844\n",
      "Epoch 95/ 200, Loss: 0.361, Accuracy: 0.844\n",
      "Epoch 96/ 200, Loss: 0.382, Accuracy: 0.875\n",
      "Epoch 97/ 200, Loss: 0.532, Accuracy: 0.750\n",
      "Epoch 98/ 200, Loss: 0.443, Accuracy: 0.812\n",
      "Epoch 99/ 200, Loss: 0.400, Accuracy: 0.844\n",
      "Epoch 100/ 200, Loss: 0.461, Accuracy: 0.781\n",
      "Epoch 101/ 200, Loss: 0.435, Accuracy: 0.750\n",
      "Epoch 102/ 200, Loss: 0.414, Accuracy: 0.812\n",
      "Epoch 103/ 200, Loss: 0.316, Accuracy: 0.844\n",
      "Epoch 104/ 200, Loss: 0.426, Accuracy: 0.750\n",
      "Epoch 105/ 200, Loss: 0.494, Accuracy: 0.719\n",
      "Epoch 106/ 200, Loss: 0.555, Accuracy: 0.688\n",
      "Epoch 107/ 200, Loss: 0.305, Accuracy: 0.844\n",
      "Epoch 108/ 200, Loss: 0.388, Accuracy: 0.844\n",
      "Epoch 109/ 200, Loss: 0.416, Accuracy: 0.750\n",
      "Epoch 110/ 200, Loss: 0.403, Accuracy: 0.781\n",
      "Epoch 111/ 200, Loss: 0.342, Accuracy: 0.844\n",
      "Epoch 112/ 200, Loss: 0.388, Accuracy: 0.781\n",
      "Epoch 113/ 200, Loss: 0.517, Accuracy: 0.750\n",
      "Epoch 114/ 200, Loss: 0.330, Accuracy: 0.875\n",
      "Epoch 115/ 200, Loss: 0.394, Accuracy: 0.781\n",
      "Epoch 116/ 200, Loss: 0.236, Accuracy: 0.938\n",
      "Epoch 117/ 200, Loss: 0.300, Accuracy: 0.875\n",
      "Epoch 118/ 200, Loss: 0.452, Accuracy: 0.781\n",
      "Epoch 119/ 200, Loss: 0.605, Accuracy: 0.688\n",
      "Epoch 120/ 200, Loss: 0.484, Accuracy: 0.688\n",
      "Epoch 121/ 200, Loss: 0.282, Accuracy: 0.875\n",
      "Epoch 122/ 200, Loss: 0.618, Accuracy: 0.625\n",
      "Epoch 123/ 200, Loss: 0.395, Accuracy: 0.812\n",
      "Epoch 124/ 200, Loss: 0.333, Accuracy: 0.812\n",
      "Epoch 125/ 200, Loss: 0.361, Accuracy: 0.844\n",
      "Epoch 126/ 200, Loss: 0.354, Accuracy: 0.844\n",
      "Epoch 127/ 200, Loss: 0.407, Accuracy: 0.750\n",
      "Epoch 128/ 200, Loss: 0.362, Accuracy: 0.844\n",
      "Epoch 129/ 200, Loss: 0.458, Accuracy: 0.812\n",
      "Epoch 130/ 200, Loss: 0.445, Accuracy: 0.781\n",
      "Epoch 131/ 200, Loss: 0.547, Accuracy: 0.781\n",
      "Epoch 132/ 200, Loss: 0.446, Accuracy: 0.844\n",
      "Epoch 133/ 200, Loss: 0.416, Accuracy: 0.719\n",
      "Epoch 134/ 200, Loss: 0.613, Accuracy: 0.656\n",
      "Epoch 135/ 200, Loss: 0.430, Accuracy: 0.781\n",
      "Epoch 136/ 200, Loss: 0.415, Accuracy: 0.750\n",
      "Epoch 137/ 200, Loss: 0.433, Accuracy: 0.750\n",
      "Epoch 138/ 200, Loss: 0.397, Accuracy: 0.812\n",
      "Epoch 139/ 200, Loss: 0.248, Accuracy: 0.938\n",
      "Epoch 140/ 200, Loss: 0.423, Accuracy: 0.812\n",
      "Epoch 141/ 200, Loss: 0.494, Accuracy: 0.750\n",
      "Epoch 142/ 200, Loss: 0.318, Accuracy: 0.844\n",
      "Epoch 143/ 200, Loss: 0.403, Accuracy: 0.781\n",
      "Epoch 144/ 200, Loss: 0.378, Accuracy: 0.844\n",
      "Epoch 145/ 200, Loss: 0.326, Accuracy: 0.906\n",
      "Epoch 146/ 200, Loss: 0.739, Accuracy: 0.562\n",
      "Epoch 147/ 200, Loss: 0.477, Accuracy: 0.781\n",
      "Epoch 148/ 200, Loss: 0.355, Accuracy: 0.781\n",
      "Epoch 149/ 200, Loss: 0.340, Accuracy: 0.875\n",
      "Epoch 150/ 200, Loss: 0.464, Accuracy: 0.844\n",
      "Epoch 151/ 200, Loss: 0.207, Accuracy: 0.969\n",
      "Epoch 152/ 200, Loss: 0.449, Accuracy: 0.750\n",
      "Epoch 153/ 200, Loss: 0.438, Accuracy: 0.750\n",
      "Epoch 154/ 200, Loss: 0.388, Accuracy: 0.781\n",
      "Epoch 155/ 200, Loss: 0.414, Accuracy: 0.781\n",
      "Epoch 156/ 200, Loss: 0.355, Accuracy: 0.812\n",
      "Epoch 157/ 200, Loss: 0.433, Accuracy: 0.812\n",
      "Epoch 158/ 200, Loss: 0.257, Accuracy: 0.906\n",
      "Epoch 159/ 200, Loss: 0.491, Accuracy: 0.781\n",
      "Epoch 160/ 200, Loss: 0.423, Accuracy: 0.844\n",
      "Epoch 161/ 200, Loss: 0.332, Accuracy: 0.938\n",
      "Epoch 162/ 200, Loss: 0.570, Accuracy: 0.688\n",
      "Epoch 163/ 200, Loss: 0.413, Accuracy: 0.812\n",
      "Epoch 164/ 200, Loss: 0.284, Accuracy: 0.875\n",
      "Epoch 165/ 200, Loss: 0.280, Accuracy: 0.844\n",
      "Epoch 166/ 200, Loss: 0.518, Accuracy: 0.750\n",
      "Epoch 167/ 200, Loss: 0.308, Accuracy: 0.812\n",
      "Epoch 168/ 200, Loss: 0.375, Accuracy: 0.781\n",
      "Epoch 169/ 200, Loss: 0.402, Accuracy: 0.781\n",
      "Epoch 170/ 200, Loss: 0.376, Accuracy: 0.812\n",
      "Epoch 171/ 200, Loss: 0.401, Accuracy: 0.750\n",
      "Epoch 172/ 200, Loss: 0.389, Accuracy: 0.875\n",
      "Epoch 173/ 200, Loss: 0.438, Accuracy: 0.812\n",
      "Epoch 174/ 200, Loss: 0.417, Accuracy: 0.812\n",
      "Epoch 175/ 200, Loss: 0.581, Accuracy: 0.719\n",
      "Epoch 176/ 200, Loss: 0.512, Accuracy: 0.781\n",
      "Epoch 177/ 200, Loss: 0.303, Accuracy: 0.906\n",
      "Epoch 178/ 200, Loss: 0.455, Accuracy: 0.781\n",
      "Epoch 179/ 200, Loss: 0.448, Accuracy: 0.844\n",
      "Epoch 180/ 200, Loss: 0.435, Accuracy: 0.812\n",
      "Epoch 181/ 200, Loss: 0.254, Accuracy: 0.938\n",
      "Epoch 182/ 200, Loss: 0.486, Accuracy: 0.844\n",
      "Epoch 183/ 200, Loss: 0.327, Accuracy: 0.875\n",
      "Epoch 184/ 200, Loss: 0.472, Accuracy: 0.750\n",
      "Epoch 185/ 200, Loss: 0.291, Accuracy: 0.906\n",
      "Epoch 186/ 200, Loss: 0.269, Accuracy: 0.906\n",
      "Epoch 187/ 200, Loss: 0.503, Accuracy: 0.781\n",
      "Epoch 188/ 200, Loss: 0.290, Accuracy: 0.844\n"
     ]
    },
    {
     "name": "stdout",
     "output_type": "stream",
     "text": [
      "Epoch 189/ 200, Loss: 0.375, Accuracy: 0.812\n",
      "Epoch 190/ 200, Loss: 0.368, Accuracy: 0.844\n",
      "Epoch 191/ 200, Loss: 0.273, Accuracy: 0.906\n",
      "Epoch 192/ 200, Loss: 0.297, Accuracy: 0.844\n",
      "Epoch 193/ 200, Loss: 0.337, Accuracy: 0.812\n",
      "Epoch 194/ 200, Loss: 0.293, Accuracy: 0.875\n",
      "Epoch 195/ 200, Loss: 0.203, Accuracy: 0.938\n",
      "Epoch 196/ 200, Loss: 0.329, Accuracy: 0.844\n",
      "Epoch 197/ 200, Loss: 0.303, Accuracy: 0.906\n",
      "Epoch 198/ 200, Loss: 0.397, Accuracy: 0.844\n",
      "Epoch 199/ 200, Loss: 0.504, Accuracy: 0.719\n",
      "Epoch 200/ 200, Loss: 0.473, Accuracy: 0.781\n"
     ]
    }
   ],
   "source": [
    "epochs = 200\n",
    "for epoch in range(epochs):\n",
    "    for inputs,labels in train_loader:\n",
    "        inputs = inputs.float()\n",
    "        labels = labels.float()\n",
    "        #forward prop\n",
    "        outputs = net(inputs) #skrócona wersja zapisu net.forward(inputs)\n",
    "        #loss Calc\n",
    "        loss = criterion(outputs,labels)\n",
    "        #clear gradient buffer - only in PyTorch, as standard, frameworks do it automatically\n",
    "        optimizer.zero_grad()\n",
    "        #backpropagation\n",
    "        loss.backward()\n",
    "        #update weights\n",
    "        optimizer.step()\n",
    "        \n",
    "    #accuracy calc\n",
    "    output = (outputs > 0.5).float()\n",
    "    accuracy = (output == labels).float().mean()\n",
    "    print(\"Epoch {}/ {}, Loss: {:.3f}, Accuracy: {:.3f}\".format(epoch+1,epochs,loss,accuracy))"
   ]
  },
  {
   "cell_type": "code",
   "execution_count": null,
   "id": "f08944d5",
   "metadata": {},
   "outputs": [],
   "source": []
  }
 ],
 "metadata": {
  "kernelspec": {
   "display_name": "Python 3",
   "language": "python",
   "name": "python3"
  },
  "language_info": {
   "codemirror_mode": {
    "name": "ipython",
    "version": 3
   },
   "file_extension": ".py",
   "mimetype": "text/x-python",
   "name": "python",
   "nbconvert_exporter": "python",
   "pygments_lexer": "ipython3",
   "version": "3.7.10"
  }
 },
 "nbformat": 4,
 "nbformat_minor": 5
}
