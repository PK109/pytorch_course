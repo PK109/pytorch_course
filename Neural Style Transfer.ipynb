{
 "cells": [
  {
   "cell_type": "code",
   "execution_count": 2,
   "id": "dd002e42",
   "metadata": {},
   "outputs": [],
   "source": [
    "import torch\n",
    "import torch.nn as nn\n",
    "import torchvision\n",
    "from torchvision import models, transforms\n",
    "from PIL import Image\n",
    "import numpy as np\n",
    "import matplotlib.pyplot as plt\n",
    "\n",
    "device = torch.device('cuda' if torch.cuda.is_available() else 'cpu')"
   ]
  },
  {
   "cell_type": "code",
   "execution_count": 4,
   "id": "dc5a8990",
   "metadata": {},
   "outputs": [],
   "source": [
    "def get_image(path, img_transform, size = (300,300)):\n",
    "    image = Image.open(path)\n",
    "    image = Image.resize(size, Image.LANCZOS)\n",
    "    image = img_transform(image).unsqueeze(0)\n",
    "    return image.to(device)"
   ]
  },
  {
   "cell_type": "code",
   "execution_count": 6,
   "id": "228338f2",
   "metadata": {},
   "outputs": [],
   "source": [
    "def get_gram(m):\n",
    "    \"\"\"\n",
    "    m is of shape of (1,channels,height,width)\n",
    "    \"\"\"\n",
    "    _, c, h, w = m.size()\n",
    "    m = m.view(c, h *w) #zmiana rozmiaru pod policzenie GRAM\n",
    "    m = torch.mm(m,m.t()) #mnożenie macierzy podstawowej przez transponowaną\n",
    "    return m"
   ]
  },
  {
   "cell_type": "code",
   "execution_count": 9,
   "id": "fcc27ce9",
   "metadata": {},
   "outputs": [],
   "source": [
    "def denormalize_image(inp):\n",
    "    inp = inp.numpy().transpose((1,2,0)) #zmiana kolejności, dzięki czemu numpy będzie w stanie pokazywać obrazy\n",
    "    mean = np.array([0.485,0.456,0.406])\n",
    "    std = np.array([0.229,0.224, 0.225])\n",
    "    inp = inp *std + mean\n",
    "    inp = inp.clip(input, 0,1)\n",
    "    return inp"
   ]
  },
  {
   "cell_type": "code",
   "execution_count": null,
   "id": "b7811590",
   "metadata": {},
   "outputs": [],
   "source": []
  }
 ],
 "metadata": {
  "kernelspec": {
   "display_name": "Python 3",
   "language": "python",
   "name": "python3"
  },
  "language_info": {
   "codemirror_mode": {
    "name": "ipython",
    "version": 3
   },
   "file_extension": ".py",
   "mimetype": "text/x-python",
   "name": "python",
   "nbconvert_exporter": "python",
   "pygments_lexer": "ipython3",
   "version": "3.7.10"
  }
 },
 "nbformat": 4,
 "nbformat_minor": 5
}
