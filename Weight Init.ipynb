{
 "cells": [
  {
   "cell_type": "code",
   "execution_count": 1,
   "id": "7cccef15",
   "metadata": {},
   "outputs": [],
   "source": [
    "import torch\n",
    "import torch.nn as nn"
   ]
  },
  {
   "cell_type": "code",
   "execution_count": 8,
   "id": "ec10b85a",
   "metadata": {},
   "outputs": [],
   "source": [
    "layer = nn.Linear(5,5)"
   ]
  },
  {
   "cell_type": "code",
   "execution_count": 9,
   "id": "52a0f7b1",
   "metadata": {},
   "outputs": [
    {
     "data": {
      "text/plain": [
       "Parameter containing:\n",
       "tensor([[ 0.1535, -0.0401, -0.3115,  0.1727,  0.3661],\n",
       "        [ 0.1338, -0.0458,  0.3218,  0.2063,  0.3026],\n",
       "        [ 0.2302,  0.3301,  0.0239, -0.2335,  0.4186],\n",
       "        [ 0.2914,  0.2052,  0.4091,  0.0786, -0.2057],\n",
       "        [ 0.3258, -0.2174, -0.0754, -0.1014,  0.2070]], requires_grad=True)"
      ]
     },
     "execution_count": 9,
     "metadata": {},
     "output_type": "execute_result"
    }
   ],
   "source": [
    "layer.weight#.data"
   ]
  },
  {
   "cell_type": "code",
   "execution_count": 6,
   "id": "a2c480d5",
   "metadata": {},
   "outputs": [
    {
     "data": {
      "text/plain": [
       "Parameter containing:\n",
       "tensor([[2.9008, 1.1519, 1.7501, 0.9784, 1.5840],\n",
       "        [1.8396, 0.8440, 2.6456, 1.7860, 2.5136],\n",
       "        [0.1932, 0.7469, 2.5330, 0.0673, 1.4136],\n",
       "        [0.2156, 2.5830, 0.8729, 1.4029, 1.4747],\n",
       "        [2.2144, 1.9747, 0.2746, 1.5851, 0.4794]], requires_grad=True)"
      ]
     },
     "execution_count": 6,
     "metadata": {},
     "output_type": "execute_result"
    }
   ],
   "source": [
    "nn.init.uniform_(layer.weight, a=0.0, b=3.0)"
   ]
  },
  {
   "cell_type": "code",
   "execution_count": 13,
   "id": "652f875f",
   "metadata": {},
   "outputs": [
    {
     "data": {
      "text/plain": [
       "Parameter containing:\n",
       "tensor([[ 0.0747, -0.3922,  0.1329, -0.3682, -0.2176],\n",
       "        [ 0.1552, -0.0379,  0.1975,  0.0530,  0.1264],\n",
       "        [-0.3383, -0.0057, -0.1053, -0.2954, -0.0159],\n",
       "        [ 0.1727, -0.0776, -0.0130,  0.0889,  0.0356],\n",
       "        [ 0.0595, -0.1553,  0.1069,  0.1260,  0.1040]], requires_grad=True)"
      ]
     },
     "execution_count": 13,
     "metadata": {},
     "output_type": "execute_result"
    }
   ],
   "source": [
    "nn.init.normal_(layer.weight, mean=0.0, std=0.2)"
   ]
  },
  {
   "cell_type": "code",
   "execution_count": 14,
   "id": "fa766d45",
   "metadata": {},
   "outputs": [
    {
     "data": {
      "text/plain": [
       "Parameter containing:\n",
       "tensor([3., 3., 3., 3., 3.], requires_grad=True)"
      ]
     },
     "execution_count": 14,
     "metadata": {},
     "output_type": "execute_result"
    }
   ],
   "source": [
    "nn.init.constant_(layer.bias, 3)"
   ]
  },
  {
   "cell_type": "code",
   "execution_count": null,
   "id": "3bbbbcaf",
   "metadata": {},
   "outputs": [],
   "source": [
    "nn.init.xavier_uniform_(layer.weight, gain=1.0)"
   ]
  }
 ],
 "metadata": {
  "kernelspec": {
   "display_name": "Python 3",
   "language": "python",
   "name": "python3"
  },
  "language_info": {
   "codemirror_mode": {
    "name": "ipython",
    "version": 3
   },
   "file_extension": ".py",
   "mimetype": "text/x-python",
   "name": "python",
   "nbconvert_exporter": "python",
   "pygments_lexer": "ipython3",
   "version": "3.7.10"
  }
 },
 "nbformat": 4,
 "nbformat_minor": 5
}
